{
 "cells": [
  {
   "cell_type": "markdown",
   "metadata": {},
   "source": [
    "## Chapter 0: Setup\n",
    "\n",
    "<a target=\"_blank\" href=\"https://colab.research.google.com/github/wandb/eval-course/blob/main/notebooks/chapter_00.ipynb\">\n",
    "  <img src=\"https://colab.research.google.com/assets/colab-badge.svg\" alt=\"Open In Colab\"/>\n",
    "</a>\n",
    "\n",
    "<!--- @wandbcode{eval-course-00} -->\n",
    "\n",
    "Let's install the required packages and check our setup for this course.\n",
    "\n",
    "### 🎉 Free Google AI Studio Access\n",
    "\n",
    "Before you run this colab notebook, you'll need access to Google's Generative AI models. Here's how to get started:\n",
    "\n",
    "1. Visit [Google AI Studio](https://makersuite.google.com/app/home) and sign in with your Google account\n",
    "2. Get your API key from the \"Get API key\" section in Google AI Studio\n",
    "\n",
    "Alternatively, if you already have a Google AI Studio API key, feel free to proceed. :)"
   ]
  },
  {
   "cell_type": "code",
   "execution_count": 4,
   "metadata": {},
   "outputs": [
    {
     "name": "stdout",
     "output_type": "stream",
     "text": [
      "Note: you may need to restart the kernel to use updated packages.\n"
     ]
    }
   ],
   "source": [
    "%pip install -qq weave google-generativeai"
   ]
  },
  {
   "cell_type": "markdown",
   "metadata": {},
   "source": [
    "## 1. Setup Weave\n",
    "\n",
    "\n",
    "The code cell below will prompt you to put in a W&B API key. You can get your API key by heading over to https://wandb.ai/authorize."
   ]
  },
  {
   "cell_type": "code",
   "execution_count": 5,
   "metadata": {},
   "outputs": [],
   "source": [
    "# import weave\n",
    "import weave\n",
    "\n",
    "# initialize weave client\n",
    "weave_client = weave.init(\"eval_course_ch0\")"
   ]
  },
  {
   "cell_type": "markdown",
   "metadata": {},
   "source": [
    "## 2. Setup Google AI Studio\n",
    "\n",
    "The code cell below will prompt you to put in a Google AI Studio API key."
   ]
  },
  {
   "cell_type": "code",
   "execution_count": 6,
   "metadata": {},
   "outputs": [],
   "source": [
    "import getpass\n",
    "\n",
    "import google.generativeai as genai\n",
    "\n",
    "genai.configure(api_key=getpass.getpass(\"Please enter your Google AI Studio API key\"))"
   ]
  },
  {
   "cell_type": "markdown",
   "metadata": {},
   "source": [
    "## A simple-turn chat with Google AI Studio's gemini-2.0-flash-exp\n"
   ]
  },
  {
   "cell_type": "code",
   "execution_count": 7,
   "metadata": {},
   "outputs": [
    {
     "name": "stdout",
     "output_type": "stream",
     "text": [
      "🍩 https://wandb.ai/todd-jordan-paccar/eval_course_ch0/r/call/01950153-ba13-75b2-93a6-3cae46384538\n"
     ]
    },
    {
     "data": {
      "text/plain": [
       "'Okay, let\\'s break down how AI works. It\\'s a broad field, so I\\'ll focus on the core concepts and common techniques, avoiding getting overly technical.\\n\\n**What is AI, at its heart?**\\n\\nAt its most basic, Artificial Intelligence (AI) aims to create machines that can perform tasks that typically require human intelligence.  This includes things like:\\n\\n*   **Learning:** Acquiring information and rules for using the information.\\n*   **Reasoning:** Using rules to reach conclusions (deduction, induction).\\n*   **Problem-solving:** Finding solutions to complex issues.\\n*   **Perception:** Interpreting sensory input (like vision or sound).\\n*   **Understanding Language:** Processing and generating human language.\\n\\n**Key Approaches and Techniques:**\\n\\nHere are some of the most common ways AI is implemented:\\n\\n1.  **Machine Learning (ML):  Learning from Data**\\n\\n    *   This is the most popular and widely used approach in modern AI. Instead of explicitly programming rules, ML algorithms *learn* from data.\\n    *   **How it Works:**\\n        *   You feed a machine learning algorithm a large dataset.\\n        *   The algorithm analyzes the data, identifies patterns, and builds a model.\\n        *   This model can then be used to make predictions or decisions on new, unseen data.\\n    *   **Types of Machine Learning:**\\n        *   **Supervised Learning:** The algorithm learns from labeled data (data where the correct output is already known).  Think of it like learning with a teacher.\\n            *   **Example:**  Training an algorithm to recognize cats in images. You provide thousands of images, each labeled as either \"cat\" or \"not cat.\"\\n        *   **Unsupervised Learning:** The algorithm learns from unlabeled data. It tries to find patterns or structures on its own.\\n            *   **Example:**  Clustering customers based on their purchasing behavior to identify different market segments.\\n        *   **Reinforcement Learning:**  The algorithm learns by trial and error, receiving rewards or penalties for its actions in an environment.\\n            *   **Example:**  Training a robot to walk.  The robot tries different movements, and gets rewarded for moving forward and penalized for falling.\\n\\n2.  **Deep Learning (DL):  Neural Networks on Steroids**\\n\\n    *   Deep Learning is a subfield of Machine Learning that uses artificial neural networks with many layers (hence \"deep\").\\n    *   **How it Works:**\\n        *   **Artificial Neural Networks:**  Inspired by the structure of the human brain, these networks consist of interconnected nodes (neurons) organized in layers.\\n        *   **Layers:**  Each layer processes the input data in a different way, extracting increasingly complex features.  Early layers might detect edges in an image, while later layers might identify objects.\\n        *   **Training:**  The network learns by adjusting the connections between neurons (the \"weights\") based on the training data.\\n    *   **Why it\\'s Powerful:**\\n        *   Can automatically learn complex features from raw data, without requiring manual feature engineering.\\n        *   Achieves state-of-the-art performance in many tasks, such as image recognition, natural language processing, and speech recognition.\\n    *   **Requires:**  A lot of computing power and very large datasets to train effectively.\\n\\n3.  **Natural Language Processing (NLP):  Understanding and Generating Language**\\n\\n    *   Focuses on enabling computers to understand, interpret, and generate human language.\\n    *   **How it Works:**\\n        *   Uses techniques from machine learning, linguistics, and computer science.\\n        *   **Key Tasks:**\\n            *   **Text Analysis:** Understanding the meaning and structure of text.\\n            *   **Sentiment Analysis:**  Determining the emotional tone of text.\\n            *   **Machine Translation:**  Translating text from one language to another.\\n            *   **Text Generation:**  Creating new text, such as summaries or articles.\\n    *   **Examples:**\\n        *   Chatbots\\n        *   Voice assistants (Siri, Alexa)\\n        *   Spam filters\\n        *   Language translation apps\\n\\n4.  **Rule-Based Systems (Expert Systems):  Following Explicit Rules**\\n\\n    *   A more traditional approach to AI.\\n    *   **How it Works:**\\n        *   Uses a set of predefined rules to make decisions or solve problems.\\n        *   The rules are typically based on expert knowledge in a specific domain.\\n        *   **Components:**\\n            *   **Knowledge Base:** Stores the facts and rules.\\n            *   **Inference Engine:** Applies the rules to the facts to reach conclusions.\\n    *   **Advantages:**\\n        *   Easy to understand and debug.\\n        *   Can provide explanations for their decisions.\\n    *   **Disadvantages:**\\n        *   Difficult to create and maintain, especially for complex domains.\\n        *   Not good at handling uncertainty or incomplete information.\\n\\n5.  **Computer Vision: Seeing and Understanding Images**\\n\\n    *   Enables computers to \"see\" and interpret images and videos.\\n    *   **How it Works:**\\n        *   Uses techniques from image processing, pattern recognition, and machine learning (especially deep learning).\\n        *   **Key Tasks:**\\n            *   **Image Recognition:** Identifying objects in an image.\\n            *   **Object Detection:** Locating objects in an image.\\n            *   **Image Segmentation:** Dividing an image into regions.\\n            *   **Facial Recognition:** Identifying faces in an image or video.\\n    *   **Examples:**\\n        *   Self-driving cars\\n        *   Medical image analysis\\n        *   Security systems\\n\\n**The AI Development Process (Simplified):**\\n\\n1.  **Define the Problem:** Clearly identify the task you want the AI to perform.\\n2.  **Gather Data:** Collect a large and relevant dataset.  The quality and quantity of data are crucial.\\n3.  **Choose an Algorithm/Technique:** Select the appropriate AI technique (e.g., supervised learning, deep learning, rule-based system) based on the problem and the data.\\n4.  **Train the Model:** Feed the data into the algorithm to train the model. This involves adjusting the model\\'s parameters to minimize errors.\\n5.  **Evaluate the Model:** Test the model on a separate dataset to assess its performance.\\n6.  **Deploy the Model:** Integrate the model into a real-world application.\\n7.  **Monitor and Retrain:** Continuously monitor the model\\'s performance and retrain it with new data to improve its accuracy over time.\\n\\n**Important Considerations:**\\n\\n*   **Data Bias:** AI models can inherit biases from the data they are trained on.  It\\'s important to be aware of and mitigate bias to ensure fair and accurate results.\\n*   **Explainability:**  Some AI models (especially deep learning models) can be difficult to understand.  Explainable AI (XAI) aims to make AI decisions more transparent and understandable.\\n*   **Ethics:**  AI raises important ethical questions about privacy, security, and the potential impact on society.  Responsible AI development is crucial.\\n*   **Computing Power:** Training complex AI models often requires significant computing resources (GPUs, cloud computing).\\n\\n**In Summary:**\\n\\nAI is a diverse field with many different approaches.  The core idea is to create machines that can perform tasks that typically require human intelligence.  Machine learning, and especially deep learning, have become the dominant approaches in recent years, enabling AI to achieve impressive results in many areas.  However, it\\'s important to consider the ethical implications and potential biases when developing and deploying AI systems.\\n'"
      ]
     },
     "execution_count": 7,
     "metadata": {},
     "output_type": "execute_result"
    }
   ],
   "source": [
    "model = genai.GenerativeModel(\"gemini-2.0-flash-exp\")\n",
    "response = model.generate_content(\"Explain how AI works\")\n",
    "response.text"
   ]
  },
  {
   "cell_type": "markdown",
   "metadata": {},
   "source": [
    "Let's head over to the weave URL to check out the generated response."
   ]
  },
  {
   "cell_type": "code",
   "execution_count": 1,
   "metadata": {},
<<<<<<< HEAD
   "outputs": [
    {
     "name": "stdout",
     "output_type": "stream",
     "text": [
      "no key here!\n"
     ]
    }
   ],
   "source": [
    "import os\n",
    "key = os.environ.get(\"WANDB_API_KEY\")\n",
    "print('no key here!')"
=======
   "outputs": [],
   "source": [
    "import os\n",
    "key = os.environ.get(\"WANDB_API_KEY\")\n",
    "# key  #! this output will be saved since it is a notebook cell output"
>>>>>>> 341d9b8... init
   ]
  },
  {
   "cell_type": "code",
   "execution_count": 8,
   "metadata": {},
   "outputs": [
    {
     "name": "stdout",
     "output_type": "stream",
     "text": [
      "response:\n",
      "GenerateContentResponse(\n",
      "    done=True,\n",
      "    iterator=None,\n",
      "    result=protos.GenerateContentResponse({\n",
      "      \"candidates\": [\n",
      "        {\n",
      "          \"content\": {\n",
      "            \"parts\": [\n",
      "              {\n",
      "                \"text\": \"Okay, let's break down how AI works. It's a broad field, so I'll focus on the core concepts and common techniques, avoiding getting overly technical.\\n\\n**What is AI, at its heart?**\\n\\nAt its most basic, Artificial Intelligence (AI) aims to create machines that can perform tasks that typically require human intelligence.  This includes things like:\\n\\n*   **Learning:** Acquiring information and rules for using the information.\\n*   **Reasoning:** Using rules to reach conclusions (deduction, induction).\\n*   **Problem-solving:** Finding solutions to complex issues.\\n*   **Perception:** Interpreting sensory input (like vision or sound).\\n*   **Understanding Language:** Processing and generating human language.\\n\\n**Key Approaches and Techniques:**\\n\\nHere are some of the most common ways AI is implemented:\\n\\n1.  **Machine Learning (ML):  Learning from Data**\\n\\n    *   This is the most popular and widely used approach in modern AI. Instead of explicitly programming rules, ML algorithms *learn* from data.\\n    *   **How it Works:**\\n        *   You feed a machine learning algorithm a large dataset.\\n        *   The algorithm analyzes the data, identifies patterns, and builds a model.\\n        *   This model can then be used to make predictions or decisions on new, unseen data.\\n    *   **Types of Machine Learning:**\\n        *   **Supervised Learning:** The algorithm learns from labeled data (data where the correct output is already known).  Think of it like learning with a teacher.\\n            *   **Example:**  Training an algorithm to recognize cats in images. You provide thousands of images, each labeled as either \\\"cat\\\" or \\\"not cat.\\\"\\n        *   **Unsupervised Learning:** The algorithm learns from unlabeled data. It tries to find patterns or structures on its own.\\n            *   **Example:**  Clustering customers based on their purchasing behavior to identify different market segments.\\n        *   **Reinforcement Learning:**  The algorithm learns by trial and error, receiving rewards or penalties for its actions in an environment.\\n            *   **Example:**  Training a robot to walk.  The robot tries different movements, and gets rewarded for moving forward and penalized for falling.\\n\\n2.  **Deep Learning (DL):  Neural Networks on Steroids**\\n\\n    *   Deep Learning is a subfield of Machine Learning that uses artificial neural networks with many layers (hence \\\"deep\\\").\\n    *   **How it Works:**\\n        *   **Artificial Neural Networks:**  Inspired by the structure of the human brain, these networks consist of interconnected nodes (neurons) organized in layers.\\n        *   **Layers:**  Each layer processes the input data in a different way, extracting increasingly complex features.  Early layers might detect edges in an image, while later layers might identify objects.\\n        *   **Training:**  The network learns by adjusting the connections between neurons (the \\\"weights\\\") based on the training data.\\n    *   **Why it's Powerful:**\\n        *   Can automatically learn complex features from raw data, without requiring manual feature engineering.\\n        *   Achieves state-of-the-art performance in many tasks, such as image recognition, natural language processing, and speech recognition.\\n    *   **Requires:**  A lot of computing power and very large datasets to train effectively.\\n\\n3.  **Natural Language Processing (NLP):  Understanding and Generating Language**\\n\\n    *   Focuses on enabling computers to understand, interpret, and generate human language.\\n    *   **How it Works:**\\n        *   Uses techniques from machine learning, linguistics, and computer science.\\n        *   **Key Tasks:**\\n            *   **Text Analysis:** Understanding the meaning and structure of text.\\n            *   **Sentiment Analysis:**  Determining the emotional tone of text.\\n            *   **Machine Translation:**  Translating text from one language to another.\\n            *   **Text Generation:**  Creating new text, such as summaries or articles.\\n    *   **Examples:**\\n        *   Chatbots\\n        *   Voice assistants (Siri, Alexa)\\n        *   Spam filters\\n        *   Language translation apps\\n\\n4.  **Rule-Based Systems (Expert Systems):  Following Explicit Rules**\\n\\n    *   A more traditional approach to AI.\\n    *   **How it Works:**\\n        *   Uses a set of predefined rules to make decisions or solve problems.\\n        *   The rules are typically based on expert knowledge in a specific domain.\\n        *   **Components:**\\n            *   **Knowledge Base:** Stores the facts and rules.\\n            *   **Inference Engine:** Applies the rules to the facts to reach conclusions.\\n    *   **Advantages:**\\n        *   Easy to understand and debug.\\n        *   Can provide explanations for their decisions.\\n    *   **Disadvantages:**\\n        *   Difficult to create and maintain, especially for complex domains.\\n        *   Not good at handling uncertainty or incomplete information.\\n\\n5.  **Computer Vision: Seeing and Understanding Images**\\n\\n    *   Enables computers to \\\"see\\\" and interpret images and videos.\\n    *   **How it Works:**\\n        *   Uses techniques from image processing, pattern recognition, and machine learning (especially deep learning).\\n        *   **Key Tasks:**\\n            *   **Image Recognition:** Identifying objects in an image.\\n            *   **Object Detection:** Locating objects in an image.\\n            *   **Image Segmentation:** Dividing an image into regions.\\n            *   **Facial Recognition:** Identifying faces in an image or video.\\n    *   **Examples:**\\n        *   Self-driving cars\\n        *   Medical image analysis\\n        *   Security systems\\n\\n**The AI Development Process (Simplified):**\\n\\n1.  **Define the Problem:** Clearly identify the task you want the AI to perform.\\n2.  **Gather Data:** Collect a large and relevant dataset.  The quality and quantity of data are crucial.\\n3.  **Choose an Algorithm/Technique:** Select the appropriate AI technique (e.g., supervised learning, deep learning, rule-based system) based on the problem and the data.\\n4.  **Train the Model:** Feed the data into the algorithm to train the model. This involves adjusting the model's parameters to minimize errors.\\n5.  **Evaluate the Model:** Test the model on a separate dataset to assess its performance.\\n6.  **Deploy the Model:** Integrate the model into a real-world application.\\n7.  **Monitor and Retrain:** Continuously monitor the model's performance and retrain it with new data to improve its accuracy over time.\\n\\n**Important Considerations:**\\n\\n*   **Data Bias:** AI models can inherit biases from the data they are trained on.  It's important to be aware of and mitigate bias to ensure fair and accurate results.\\n*   **Explainability:**  Some AI models (especially deep learning models) can be difficult to understand.  Explainable AI (XAI) aims to make AI decisions more transparent and understandable.\\n*   **Ethics:**  AI raises important ethical questions about privacy, security, and the potential impact on society.  Responsible AI development is crucial.\\n*   **Computing Power:** Training complex AI models often requires significant computing resources (GPUs, cloud computing).\\n\\n**In Summary:**\\n\\nAI is a diverse field with many different approaches.  The core idea is to create machines that can perform tasks that typically require human intelligence.  Machine learning, and especially deep learning, have become the dominant approaches in recent years, enabling AI to achieve impressive results in many areas.  However, it's important to consider the ethical implications and potential biases when developing and deploying AI systems.\\n\"\n",
      "              }\n",
      "            ],\n",
      "            \"role\": \"model\"\n",
      "          },\n",
      "          \"finish_reason\": \"STOP\",\n",
      "          \"citation_metadata\": {\n",
      "            \"citation_sources\": [\n",
      "              {\n",
      "                \"start_index\": 2440,\n",
      "                \"end_index\": 2598\n",
      "              },\n",
      "              {\n",
      "                \"start_index\": 3733,\n",
      "                \"end_index\": 3880,\n",
      "                \"uri\": \"https://medium.com/@sudarssan73/diving-deeper-into-self-supervised-learning-the-art-of-crafting-pretext-tasks-2bae507e5650\"\n",
      "              },\n",
      "              {\n",
      "                \"start_index\": 3768,\n",
      "                \"end_index\": 3938\n",
      "              }\n",
      "            ]\n",
      "          },\n",
      "          \"avg_logprobs\": -0.1973300178359948\n",
      "        }\n",
      "      ],\n",
      "      \"usage_metadata\": {\n",
      "        \"prompt_token_count\": 4,\n",
      "        \"candidates_token_count\": 1636,\n",
      "        \"total_token_count\": 1640\n",
      "      },\n",
      "      \"model_version\": \"gemini-2.0-flash-exp\"\n",
      "    }),\n",
      ")\n"
     ]
    }
   ],
   "source": [
    "print(response)"
   ]
  },
  {
   "cell_type": "code",
   "execution_count": 9,
   "metadata": {},
   "outputs": [
    {
     "data": {
      "text/plain": [
       "'Okay, let\\'s break down how AI works. It\\'s a broad field, so I\\'ll focus on the core concepts and common techniques, avoiding getting overly technical.\\n\\n**What is AI, at its heart?**\\n\\nAt its most basic, Artificial Intelligence (AI) aims to create machines that can perform tasks that typically require human intelligence.  This includes things like:\\n\\n*   **Learning:** Acquiring information and rules for using the information.\\n*   **Reasoning:** Using rules to reach conclusions (deduction, induction).\\n*   **Problem-solving:** Finding solutions to complex issues.\\n*   **Perception:** Interpreting sensory input (like vision or sound).\\n*   **Understanding Language:** Processing and generating human language.\\n\\n**Key Approaches and Techniques:**\\n\\nHere are some of the most common ways AI is implemented:\\n\\n1.  **Machine Learning (ML):  Learning from Data**\\n\\n    *   This is the most popular and widely used approach in modern AI. Instead of explicitly programming rules, ML algorithms *learn* from data.\\n    *   **How it Works:**\\n        *   You feed a machine learning algorithm a large dataset.\\n        *   The algorithm analyzes the data, identifies patterns, and builds a model.\\n        *   This model can then be used to make predictions or decisions on new, unseen data.\\n    *   **Types of Machine Learning:**\\n        *   **Supervised Learning:** The algorithm learns from labeled data (data where the correct output is already known).  Think of it like learning with a teacher.\\n            *   **Example:**  Training an algorithm to recognize cats in images. You provide thousands of images, each labeled as either \"cat\" or \"not cat.\"\\n        *   **Unsupervised Learning:** The algorithm learns from unlabeled data. It tries to find patterns or structures on its own.\\n            *   **Example:**  Clustering customers based on their purchasing behavior to identify different market segments.\\n        *   **Reinforcement Learning:**  The algorithm learns by trial and error, receiving rewards or penalties for its actions in an environment.\\n            *   **Example:**  Training a robot to walk.  The robot tries different movements, and gets rewarded for moving forward and penalized for falling.\\n\\n2.  **Deep Learning (DL):  Neural Networks on Steroids**\\n\\n    *   Deep Learning is a subfield of Machine Learning that uses artificial neural networks with many layers (hence \"deep\").\\n    *   **How it Works:**\\n        *   **Artificial Neural Networks:**  Inspired by the structure of the human brain, these networks consist of interconnected nodes (neurons) organized in layers.\\n        *   **Layers:**  Each layer processes the input data in a different way, extracting increasingly complex features.  Early layers might detect edges in an image, while later layers might identify objects.\\n        *   **Training:**  The network learns by adjusting the connections between neurons (the \"weights\") based on the training data.\\n    *   **Why it\\'s Powerful:**\\n        *   Can automatically learn complex features from raw data, without requiring manual feature engineering.\\n        *   Achieves state-of-the-art performance in many tasks, such as image recognition, natural language processing, and speech recognition.\\n    *   **Requires:**  A lot of computing power and very large datasets to train effectively.\\n\\n3.  **Natural Language Processing (NLP):  Understanding and Generating Language**\\n\\n    *   Focuses on enabling computers to understand, interpret, and generate human language.\\n    *   **How it Works:**\\n        *   Uses techniques from machine learning, linguistics, and computer science.\\n        *   **Key Tasks:**\\n            *   **Text Analysis:** Understanding the meaning and structure of text.\\n            *   **Sentiment Analysis:**  Determining the emotional tone of text.\\n            *   **Machine Translation:**  Translating text from one language to another.\\n            *   **Text Generation:**  Creating new text, such as summaries or articles.\\n    *   **Examples:**\\n        *   Chatbots\\n        *   Voice assistants (Siri, Alexa)\\n        *   Spam filters\\n        *   Language translation apps\\n\\n4.  **Rule-Based Systems (Expert Systems):  Following Explicit Rules**\\n\\n    *   A more traditional approach to AI.\\n    *   **How it Works:**\\n        *   Uses a set of predefined rules to make decisions or solve problems.\\n        *   The rules are typically based on expert knowledge in a specific domain.\\n        *   **Components:**\\n            *   **Knowledge Base:** Stores the facts and rules.\\n            *   **Inference Engine:** Applies the rules to the facts to reach conclusions.\\n    *   **Advantages:**\\n        *   Easy to understand and debug.\\n        *   Can provide explanations for their decisions.\\n    *   **Disadvantages:**\\n        *   Difficult to create and maintain, especially for complex domains.\\n        *   Not good at handling uncertainty or incomplete information.\\n\\n5.  **Computer Vision: Seeing and Understanding Images**\\n\\n    *   Enables computers to \"see\" and interpret images and videos.\\n    *   **How it Works:**\\n        *   Uses techniques from image processing, pattern recognition, and machine learning (especially deep learning).\\n        *   **Key Tasks:**\\n            *   **Image Recognition:** Identifying objects in an image.\\n            *   **Object Detection:** Locating objects in an image.\\n            *   **Image Segmentation:** Dividing an image into regions.\\n            *   **Facial Recognition:** Identifying faces in an image or video.\\n    *   **Examples:**\\n        *   Self-driving cars\\n        *   Medical image analysis\\n        *   Security systems\\n\\n**The AI Development Process (Simplified):**\\n\\n1.  **Define the Problem:** Clearly identify the task you want the AI to perform.\\n2.  **Gather Data:** Collect a large and relevant dataset.  The quality and quantity of data are crucial.\\n3.  **Choose an Algorithm/Technique:** Select the appropriate AI technique (e.g., supervised learning, deep learning, rule-based system) based on the problem and the data.\\n4.  **Train the Model:** Feed the data into the algorithm to train the model. This involves adjusting the model\\'s parameters to minimize errors.\\n5.  **Evaluate the Model:** Test the model on a separate dataset to assess its performance.\\n6.  **Deploy the Model:** Integrate the model into a real-world application.\\n7.  **Monitor and Retrain:** Continuously monitor the model\\'s performance and retrain it with new data to improve its accuracy over time.\\n\\n**Important Considerations:**\\n\\n*   **Data Bias:** AI models can inherit biases from the data they are trained on.  It\\'s important to be aware of and mitigate bias to ensure fair and accurate results.\\n*   **Explainability:**  Some AI models (especially deep learning models) can be difficult to understand.  Explainable AI (XAI) aims to make AI decisions more transparent and understandable.\\n*   **Ethics:**  AI raises important ethical questions about privacy, security, and the potential impact on society.  Responsible AI development is crucial.\\n*   **Computing Power:** Training complex AI models often requires significant computing resources (GPUs, cloud computing).\\n\\n**In Summary:**\\n\\nAI is a diverse field with many different approaches.  The core idea is to create machines that can perform tasks that typically require human intelligence.  Machine learning, and especially deep learning, have become the dominant approaches in recent years, enabling AI to achieve impressive results in many areas.  However, it\\'s important to consider the ethical implications and potential biases when developing and deploying AI systems.\\n'"
      ]
     },
     "execution_count": 9,
     "metadata": {},
     "output_type": "execute_result"
    }
   ],
   "source": [
    "response.text"
   ]
  },
  {
   "cell_type": "code",
   "execution_count": 10,
   "metadata": {},
   "outputs": [
    {
     "name": "stdout",
     "output_type": "stream",
     "text": [
      "🍩 https://wandb.ai/todd-jordan-paccar/eval_course_ch0/r/call/01950155-4328-70c3-8a8a-891fdc582ef5\n"
     ]
    },
    {
     "data": {
      "text/plain": [
       "response:\n",
       "GenerateContentResponse(\n",
       "    done=True,\n",
       "    iterator=None,\n",
       "    result=protos.GenerateContentResponse({\n",
       "      \"candidates\": [\n",
       "        {\n",
       "          \"content\": {\n",
       "            \"parts\": [\n",
       "              {\n",
       "                \"text\": \"Okay, I need a bit more information to understand what kind of \\\"link\\\" you're asking about. To explain how a link is created, I need to know what type of link you have in mind. Here are some possibilities and how they are created:\\n\\n**1. Hyperlinks (Web Links):**\\n\\n*   **What they are:** These are clickable elements on a webpage that take you to another webpage, a specific part of the same page, a file to download, or another online resource.  They are fundamental to how the internet works.\\n*   **How they are created (using HTML):**  Hyperlinks are created using the `<a>` (anchor) tag in HTML.  Here's the basic structure:\\n\\n    ```html\\n    <a href=\\\"URL\\\">Link Text</a>\\n    ```\\n\\n    *   `<a>`:  The opening tag that defines the hyperlink.\\n    *   `href=\\\"URL\\\"`:  The `href` attribute specifies the destination URL.  This can be a full web address (e.g., `https://www.example.com`), a relative path to a file on the same website (e.g., `about.html`), or an anchor within the same page (e.g., `#section2`).\\n    *   `Link Text`:  The text that the user sees and clicks on.  This can be replaced with an image, or other HTML elements.\\n    *   `</a>`:  The closing tag that ends the hyperlink.\\n\\n    **Example:**\\n\\n    ```html\\n    <a href=\\\"https://www.google.com\\\">Visit Google</a>\\n    ```\\n\\n    This would create a link that displays the text \\\"Visit Google\\\" and, when clicked, takes the user to the Google homepage.\\n\\n**2. Symbolic Links (Symlinks) / Shortcuts (Operating System Links):**\\n\\n*   **What they are:**  These are essentially pointers to other files or directories on your computer.  They act like shortcuts, allowing you to access a file or directory from a different location without actually copying the data.\\n*   **How they are created (examples):**\\n    *   **Linux/macOS (using the `ln` command):**\\n        ```bash\\n        ln -s /path/to/original/file /path/to/link\\n        ```\\n        *   `ln -s`: The command to create a symbolic link.  The `-s` option is crucial for making it symbolic.\\n        *   `/path/to/original/file`: The path to the original file or directory you want to link to.\\n        *   `/path/to/link`: The path where you want the link to be created.\\n    *   **Windows (using the `mklink` command in Command Prompt as Administrator):**\\n        ```\\n        mklink /D \\\"C:\\\\path\\\\to\\\\link\\\" \\\"C:\\\\path\\\\to\\\\original\\\\directory\\\"  (for directories)\\n        mklink \\\"C:\\\\path\\\\to\\\\link.txt\\\" \\\"C:\\\\path\\\\to\\\\original\\\\file.txt\\\" (for files)\\n        ```\\n        *   `mklink`:  The command to create a symbolic link (or hard link, but we're focusing on symlinks here).\\n        *   `/D`:  Specifies that you're creating a directory link (junction).  Omit it for file links.\\n        *   `\\\"C:\\\\path\\\\to\\\\link\\\"`: The path where you want the link to be created.  Note the quotes are often needed if paths have spaces.\\n        *   `\\\"C:\\\\path\\\\to\\\\original\\\\directory\\\"`: The path to the original file or directory.\\n\\n    *   **Windows (using GUI - Create Shortcut):** You can right-click a file or folder, and select \\\"Create Shortcut\\\". This creates a `.lnk` file, which is a type of file system link.\\n\\n**3. Database Links (in Databases):**\\n\\n*   **What they are:**  These allow you to access data in a different database from your current database.  This is useful for querying data that resides in multiple systems.\\n*   **How they are created (example - Oracle):**\\n    ```sql\\n    CREATE DATABASE LINK my_remote_db\\n    CONNECT TO username IDENTIFIED BY password\\n    USING 'host:port/service_name';\\n    ```\\n    *   `CREATE DATABASE LINK my_remote_db`:  This creates a database link named `my_remote_db`.\\n    *   `CONNECT TO username IDENTIFIED BY password`:  Specifies the username and password to use when connecting to the remote database.\\n    *   `USING 'host:port/service_name'`:  Provides the connection string for the remote database.  This typically includes the hostname, port number, and service name (or SID).\\n\\n**4. Object Links (in Programming):**\\n*  **What they are:** This is an example of relationships between objects in code. One object holds a reference, which serves as a link, to another object.\\n*  **How they are created (example - Python):**\\n```python\\nclass Dog:\\n    def __init__(self, name):\\n        self.name = name\\n\\nclass Person:\\n    def __init__(self, name, dog):\\n        self.name = name\\n        self.dog = dog  # 'dog' is a link to a Dog object\\n\\n# Create a Dog object\\nmy_dog = Dog(\\\"Buddy\\\")\\n\\n# Create a Person object, linking it to the Dog object\\nmy_person = Person(\\\"Alice\\\", my_dog)\\n\\n# Now, my_person.dog refers to the my_dog object.\\nprint(my_person.dog.name)  # Output: Buddy\\n```\\nIn this example `my_person` object has a link to `my_dog`.\\n\\n**5. API Links:**\\n*   **What they are:** These allow applications to communicate and exchange data.  This is a fundamental part of modern web development.\\n*   **How they are created (example - REST API):**\\n    ```\\n    GET /users/123  (A request to get the user with ID 123)\\n    ```\\n    *   `GET`:  HTTP method indicating you want to retrieve data.\\n    *   `/users/123`: The specific endpoint that identifies the desired resource. The application or program uses an URL to communicate with the API.\\n\\nTo give you the best possible explanation, please tell me:\\n\\n*   **What kind of \\\"link\\\" are you interested in?** (e.g., a web link, a symbolic link on your computer, a database link, something else?)\\n*   **What is the context?** (e.g., are you working on a website, writing a script, managing a database?)\\n*   **What is the purpose of the link?** (e.g., to navigate to another page, to access a file, to connect to a different database?)\\n\\nOnce I have this information, I can provide a much more targeted and helpful answer.\\n\"\n",
       "              }\n",
       "            ],\n",
       "            \"role\": \"model\"\n",
       "          },\n",
       "          \"finish_reason\": \"STOP\",\n",
       "          \"avg_logprobs\": -0.26216672803534835\n",
       "        }\n",
       "      ],\n",
       "      \"usage_metadata\": {\n",
       "        \"prompt_token_count\": 7,\n",
       "        \"candidates_token_count\": 1525,\n",
       "        \"total_token_count\": 1532\n",
       "      },\n",
       "      \"model_version\": \"gemini-2.0-flash-exp\"\n",
       "    }),\n",
       ")"
      ]
     },
     "execution_count": 10,
     "metadata": {},
     "output_type": "execute_result"
    }
   ],
   "source": [
    "model.generate_content(\"Explain how the link is created!\")"
   ]
  },
  {
   "cell_type": "code",
   "execution_count": 11,
   "metadata": {},
   "outputs": [
    {
     "name": "stdout",
     "output_type": "stream",
     "text": [
      "🍩 https://wandb.ai/todd-jordan-paccar/eval_course_ch0/r/call/01950155-f0ae-71d0-98c5-5056e7f79586\n"
     ]
    }
   ],
   "source": [
    "k2 = model.generate_content(\"Explain how the link is created! '🍩 https://wandb.ai/todd-jordan-paccar/eval_course_ch0/r/call/01950155-4328-70c3-8a8a-891fdc582ef5'\")"
   ]
  },
  {
   "cell_type": "code",
   "execution_count": 12,
   "metadata": {},
   "outputs": [
    {
     "name": "stdout",
     "output_type": "stream",
     "text": [
      "The link `https://wandb.ai/todd-jordan-paccar/eval_course_ch0/r/call/01950155-4328-70c3-8a8a-891fdc582ef5` is a URL that's specifically constructed to point to a resource within the Weights & Biases (W&B) platform. Let's break down each part to understand how it's generated:\n",
      "\n",
      "*   **`https://wandb.ai`**: This is the base URL for the Weights & Biases platform. It indicates that the link directs to W&B's website.\n",
      "\n",
      "*   **`/todd-jordan-paccar`**: This part specifies the **W&B user or team** under which the linked resource is organized.  In this case, the resource belongs to either a user named \"todd-jordan-paccar\" or a team with that name within W&B.\n",
      "\n",
      "*   **`/eval_course_ch0`**: This indicates the **W&B project** that the resource belongs to. W&B projects are used to organize and group runs related to a specific experiment or endeavor, such as an evaluation course (as suggested by the name).\n",
      "\n",
      "*   **`/r/call`**: This is a routing segment. It signifies that the link refers to a **report section** named \"call\".  W&B Reports are used to visualize, analyze, and communicate the results of experiments.  The `r` likely stands for \"report\". The \"call\" part, without more context, is tough to know for sure. It could be:\n",
      "\n",
      "    *   **A specific section within a report:**  W&B Reports can have multiple sections, and \"call\" could be the title or identifier for a section analyzing \"calls\" to an API, calls within a program's execution, or any other concept related to the project.\n",
      "    *   **A specific type of report:**  Less likely, but it's possible that W&B has a specific report type or structure that uses \"call\" as a categorization.\n",
      "\n",
      "*   **`/01950155-4328-70c3-8a8a-891fdc582ef5`**: This is a **unique identifier (UUID)**.  It is the specific identifier for the resource within the project (which is a report section in this case). W&B assigns these unique IDs to every artifact, run, report, or part of a report to allow for precise referencing.\n",
      "\n",
      "**In summary:**\n",
      "\n",
      "This URL is created by Weights & Biases to provide a direct link to a specific section (\"call\") within a report in the \"eval_course_ch0\" project, under the user/team \"todd-jordan-paccar\".  The UUID ensures that the link always points to that precise resource, even if other resources with similar names exist within the platform.\n",
      "\n",
      "**How the Link is Generated (More generally within W&B):**\n",
      "\n",
      "1.  **User Action:** A user performs an action within the W&B platform (e.g., creates a new report, adds a section to a report, saves a model, or starts a new experiment).\n",
      "\n",
      "2.  **W&B Backend Logic:** The W&B backend automatically generates the URL based on the following information:\n",
      "\n",
      "    *   **Account/Team:** The user's account or the team the resource belongs to.\n",
      "    *   **Project:** The project under which the resource is organized.\n",
      "    *   **Resource Type:** The type of resource being linked to (e.g., a run, a report, a model, an artifact). This often dictates the routing segment in the URL (e.g., `/runs/`, `/reports/`, `/artifacts/`).\n",
      "    *   **Unique ID:** A unique identifier (UUID) is generated and assigned to the resource.\n",
      "    *   **Optional Sub-resource Identifier:**  If the link refers to a specific part of a larger resource (like a section in a report), a further identifier is added after the main resource identifier.\n",
      "\n",
      "3.  **URL Construction:** The W&B backend combines these pieces of information to create the full URL.\n",
      "\n",
      "4.  **Link Dissemination:** The link is then displayed to the user (e.g., in the W&B UI) or made available via the W&B API so that it can be shared and accessed by others (with the appropriate permissions).\n",
      "\n",
      "**The 🍩 (doughnut emoji):**\n",
      "\n",
      "The doughnut emoji is outside the URL and is likely added in the context where the URL is being displayed.  It's a common practice to use emojis in text or chat messages to add visual interest or emphasis. The person sharing the link might have used the donut to highlight the link or simply because they like donuts.  It's completely independent of the W&B link itself and doesn't affect the link's functionality.\n",
      "\n"
     ]
    }
   ],
   "source": [
    "# print text as markdown\n",
    "print(k2.text)"
   ]
  },
  {
   "cell_type": "code",
   "execution_count": 14,
   "metadata": {},
   "outputs": [],
   "source": [
    "# get the contents as a markdown cell so they are formatted nice\n",
    "md = k2.text"
   ]
  },
  {
   "cell_type": "markdown",
   "metadata": {},
   "source": [
    "The link `https://wandb.ai/todd-jordan-paccar/eval_course_ch0/r/call/01950155-4328-70c3-8a8a-891fdc582ef5` is a URL that's specifically constructed to point to a resource within the Weights & Biases (W&B) platform. Let's break down each part to understand how it's generated:\n",
    "\n",
    "*   **`https://wandb.ai`**: This is the base URL for the Weights & Biases platform. It indicates that the link directs to W&B's website.\n",
    "\n",
    "*   **`/todd-jordan-paccar`**: This part specifies the **W&B user or team** under which the linked resource is organized.  In this case, the resource belongs to either a user named \"todd-jordan-paccar\" or a team with that name within W&B.\n",
    "\n",
    "*   **`/eval_course_ch0`**: This indicates the **W&B project** that the resource belongs to. W&B projects are used to organize and group runs related to a specific experiment or endeavor, such as an evaluation course (as suggested by the name).\n",
    "\n",
    "*   **`/r/call`**: This is a routing segment. It signifies that the link refers to a **report section** named \"call\".  W&B Reports are used to visualize, analyze, and communicate the results of experiments.  The `r` likely stands for \"report\". The \"call\" part, without more context, is tough to know for sure. It could be:\n",
    "\n",
    "    *   **A specific section within a report:**  W&B Reports can have multiple sections, and \"call\" could be the title or identifier for a section analyzing \"calls\" to an API, calls within a program's execution, or any other concept related to the project.\n",
    "    *   **A specific type of report:**  Less likely, but it's possible that W&B has a specific report type or structure that uses \"call\" as a categorization.\n",
    "\n",
    "*   **`/01950155-4328-70c3-8a8a-891fdc582ef5`**: This is a **unique identifier (UUID)**.  It is the specific identifier for the resource within the project (which is a report section in this case). W&B assigns these unique IDs to every artifact, run, report, or part of a report to allow for precise referencing.\n",
    "\n",
    "**In summary:**\n",
    "\n",
    "This URL is created by Weights & Biases to provide a direct link to a specific section (\"call\") within a report in the \"eval_course_ch0\" project, under the user/team \"todd-jordan-paccar\".  The UUID ensures that the link always points to that precise resource, even if other resources with similar names exist within the platform.\n",
    "\n",
    "**How the Link is Generated (More generally within W&B):**\n",
    "\n",
    "1.  **User Action:** A user performs an action within the W&B platform (e.g., creates a new report, adds a section to a report, saves a model, or starts a new experiment).\n",
    "\n",
    "2.  **W&B Backend Logic:** The W&B backend automatically generates the URL based on the following information:\n",
    "\n",
    "    *   **Account/Team:** The user's account or the team the resource belongs to.\n",
    "    *   **Project:** The project under which the resource is organized.\n",
    "    *   **Resource Type:** The type of resource being linked to (e.g., a run, a report, a model, an artifact). This often dictates the routing segment in the URL (e.g., `/runs/`, `/reports/`, `/artifacts/`).\n",
    "    *   **Unique ID:** A unique identifier (UUID) is generated and assigned to the resource.\n",
    "    *   **Optional Sub-resource Identifier:**  If the link refers to a specific part of a larger resource (like a section in a report), a further identifier is added after the main resource identifier.\n",
    "\n",
    "3.  **URL Construction:** The W&B backend combines these pieces of information to create the full URL.\n",
    "\n",
    "4.  **Link Dissemination:** The link is then displayed to the user (e.g., in the W&B UI) or made available via the W&B API so that it can be shared and accessed by others (with the appropriate permissions).\n",
    "\n",
    "**The 🍩 (doughnut emoji):**\n",
    "\n",
    "The doughnut emoji is outside the URL and is likely added in the context where the URL is being displayed.  It's a common practice to use emojis in text or chat messages to add visual interest or emphasis. The person sharing the link might have used the donut to highlight the link or simply because they like donuts.  It's completely independent of the W&B link itself and doesn't affect the link's functionality.\n"
   ]
  },
  {
   "cell_type": "code",
   "execution_count": 15,
   "metadata": {},
   "outputs": [
    {
     "name": "stdout",
     "output_type": "stream",
     "text": [
      "🍩 https://wandb.ai/todd-jordan-paccar/eval_course_ch0/r/call/0195015a-65ca-7191-b657-af46549b1204\n"
     ]
    },
    {
     "data": {
      "text/plain": [
       "'Wandb Weave, a core component of the Weights & Biases (wandb) platform, provides a flexible and powerful way to visualize, analyze, and debug machine learning experiments. When you call your model within a wandb-tracked run and use Weave-compatible functions, it meticulously captures the input and output data and establishes the necessary connections for visualization in the Weave UI. Here\\'s a breakdown of how Weave creates the link after the model call:\\n\\n**1. Integration with `wandb.init()` and `wandb.log()`:**\\n\\n*   **`wandb.init()`:** This function initializes a wandb run, which acts as a container for your experiment\\'s data.\\n*   **`wandb.log()`:** This is the primary mechanism for recording metrics, hyperparameters, artifacts (like models), and other data associated with your run.  Weave relies heavily on data logged with `wandb.log()`.\\n\\n**2.  Weave-Compatible Functions and Artifacts:**\\n\\n*   **Input & Output Data as Artifacts:** Weave thrives when you save your model\\'s input and output data as `wandb.Artifact` objects.  These artifacts represent the data that was used to train and/or evaluate your model, and the predictions that it made.\\n*   **Weave-Compatible Logging:**  Some standard Python data types and logging methods are automatically recognized by Weave (e.g., scalars, images, tables).  For more complex data, you might need to use Weave\\'s specific data structures (e.g., `wandb.Table`, `wandb.Image`) to ensure proper visualization.\\n*   **Custom Tracers:**  For more detailed tracing of your model\\'s execution (including the inputs and outputs of individual layers or functions), you can use `wandb.sdk.weave.weave_internal.trace.trace` and related functions to log fine-grained details of your model\\'s computations.  This is especially useful for debugging complex models.\\n\\n**3.  Tracking Model Calls:**\\n\\n*   **Provenance Tracking:** When you use Weave-compatible logging methods, wandb automatically tracks the *provenance* of your data.  This means it records which functions or models produced which outputs, and what inputs were used.  This provenance information is crucial for creating the links in the Weave UI.  This is done in a few key ways:\\n    *   **Input/Output Mapping:** Weave records the exact input provided to your model call.\\n    *   **Function Tracking:** It keeps track of the function or model that was called.\\n    *   **Output Capture:** It records the output generated by the model.\\n\\n**4. How Links Are Constructed in the Weave UI:**\\n\\n*   **Data Graph:** Weave builds a *data graph* from the logged data and its provenance information.  This graph represents the flow of data through your experiment.\\n*   **Visual Representation:** The Weave UI then uses this data graph to create an interactive visualization.  Nodes in the graph represent data (like artifacts, metrics, or model outputs), and edges represent the relationships between them (e.g., a model\\'s input and its output).\\n*   **Clickable Connections:** The links you see in the Weave UI are visual representations of these edges in the data graph.  They allow you to trace the data flow from a model\\'s input to its output, and to see how different parts of your experiment are connected.\\n\\n**Example:**\\n\\n```python\\nimport wandb\\nimport numpy as np\\n\\n# Assume you have a simple model:\\ndef my_model(input_data):\\n  return input_data * 2\\n\\nwandb.init(project=\"my-weave-project\")\\n\\n# Generate some input data\\ninput_np = np.random.rand(10)\\n\\n# Create a wandb Artifact for the input\\ninput_artifact = wandb.Artifact(\"my_input_data\", type=\"dataset\")\\nwith input_artifact.new_file(\"input.npy\") as f:\\n    np.save(f, input_np)\\nwandb.log_artifact(input_artifact)\\n\\n# Call the model\\noutput_np = my_model(input_np)\\n\\n# Create a wandb Artifact for the output\\noutput_artifact = wandb.Artifact(\"my_output_data\", type=\"dataset\")\\nwith output_artifact.new_file(\"output.npy\") as f:\\n    np.save(f, output_np)\\nwandb.log_artifact(output_artifact)\\n\\n\\n# Log the output to wandb\\nwandb.log({\"output\": output_np})\\n\\nwandb.finish()\\n```\\n\\nIn this example:\\n\\n1.  `wandb.init()` starts the run.\\n2.  `wandb.Artifact` is used to create an artifact for the input and output to the model.\\n3.  `my_model()` is called with input.\\n4.  `wandb.log_artifact` records the input and output artifacts to the run.\\n\\nWhen you view this run in the Weave UI, you will see the `input_artifact` and `output_artifact`.  Because the provenance is tracked by wandb (and you\\'re using artifacts) you\\'ll see that Weave will attempt to intelligently link the input to the output when you explore the run in Weave mode.\\n\\n**In Summary:**\\n\\nWeave creates links after a model call by:\\n\\n1.  **Capturing input and output data** (preferably as wandb artifacts).\\n2.  **Logging this data with `wandb.log()` or `wandb.log_artifact()`.**\\n3.  **Tracking the provenance** of the data to establish relationships between inputs, functions/models, and outputs.\\n4.  **Constructing a data graph** that represents the flow of data through your experiment.\\n5.  **Visualizing the data graph in the Weave UI**, with links representing the relationships between nodes.\\n\\nTo maximize the power of Weave, structure your code to use `wandb.Artifacts`, `wandb.Table`, `wandb.Image`, or other Weave-compatible data types whenever possible. Also, consider the `wandb.sdk.weave.trace` module for more advanced tracing of your model\\'s execution.\\n'"
      ]
     },
     "execution_count": 15,
     "metadata": {},
     "output_type": "execute_result"
    }
   ],
   "source": [
    "k3 = model.generate_content(\"how does wandb weave work to show the link after calling the model?\")\n",
    "k3.text"
   ]
  },
  {
   "cell_type": "code",
   "execution_count": 16,
   "metadata": {},
   "outputs": [
    {
     "name": "stdout",
     "output_type": "stream",
     "text": [
      "Wandb Weave, a core component of the Weights & Biases (wandb) platform, provides a flexible and powerful way to visualize, analyze, and debug machine learning experiments. When you call your model within a wandb-tracked run and use Weave-compatible functions, it meticulously captures the input and output data and establishes the necessary connections for visualization in the Weave UI. Here's a breakdown of how Weave creates the link after the model call:\n",
      "\n",
      "**1. Integration with `wandb.init()` and `wandb.log()`:**\n",
      "\n",
      "*   **`wandb.init()`:** This function initializes a wandb run, which acts as a container for your experiment's data.\n",
      "*   **`wandb.log()`:** This is the primary mechanism for recording metrics, hyperparameters, artifacts (like models), and other data associated with your run.  Weave relies heavily on data logged with `wandb.log()`.\n",
      "\n",
      "**2.  Weave-Compatible Functions and Artifacts:**\n",
      "\n",
      "*   **Input & Output Data as Artifacts:** Weave thrives when you save your model's input and output data as `wandb.Artifact` objects.  These artifacts represent the data that was used to train and/or evaluate your model, and the predictions that it made.\n",
      "*   **Weave-Compatible Logging:**  Some standard Python data types and logging methods are automatically recognized by Weave (e.g., scalars, images, tables).  For more complex data, you might need to use Weave's specific data structures (e.g., `wandb.Table`, `wandb.Image`) to ensure proper visualization.\n",
      "*   **Custom Tracers:**  For more detailed tracing of your model's execution (including the inputs and outputs of individual layers or functions), you can use `wandb.sdk.weave.weave_internal.trace.trace` and related functions to log fine-grained details of your model's computations.  This is especially useful for debugging complex models.\n",
      "\n",
      "**3.  Tracking Model Calls:**\n",
      "\n",
      "*   **Provenance Tracking:** When you use Weave-compatible logging methods, wandb automatically tracks the *provenance* of your data.  This means it records which functions or models produced which outputs, and what inputs were used.  This provenance information is crucial for creating the links in the Weave UI.  This is done in a few key ways:\n",
      "    *   **Input/Output Mapping:** Weave records the exact input provided to your model call.\n",
      "    *   **Function Tracking:** It keeps track of the function or model that was called.\n",
      "    *   **Output Capture:** It records the output generated by the model.\n",
      "\n",
      "**4. How Links Are Constructed in the Weave UI:**\n",
      "\n",
      "*   **Data Graph:** Weave builds a *data graph* from the logged data and its provenance information.  This graph represents the flow of data through your experiment.\n",
      "*   **Visual Representation:** The Weave UI then uses this data graph to create an interactive visualization.  Nodes in the graph represent data (like artifacts, metrics, or model outputs), and edges represent the relationships between them (e.g., a model's input and its output).\n",
      "*   **Clickable Connections:** The links you see in the Weave UI are visual representations of these edges in the data graph.  They allow you to trace the data flow from a model's input to its output, and to see how different parts of your experiment are connected.\n",
      "\n",
      "**Example:**\n",
      "\n",
      "```python\n",
      "import wandb\n",
      "import numpy as np\n",
      "\n",
      "# Assume you have a simple model:\n",
      "def my_model(input_data):\n",
      "  return input_data * 2\n",
      "\n",
      "wandb.init(project=\"my-weave-project\")\n",
      "\n",
      "# Generate some input data\n",
      "input_np = np.random.rand(10)\n",
      "\n",
      "# Create a wandb Artifact for the input\n",
      "input_artifact = wandb.Artifact(\"my_input_data\", type=\"dataset\")\n",
      "with input_artifact.new_file(\"input.npy\") as f:\n",
      "    np.save(f, input_np)\n",
      "wandb.log_artifact(input_artifact)\n",
      "\n",
      "# Call the model\n",
      "output_np = my_model(input_np)\n",
      "\n",
      "# Create a wandb Artifact for the output\n",
      "output_artifact = wandb.Artifact(\"my_output_data\", type=\"dataset\")\n",
      "with output_artifact.new_file(\"output.npy\") as f:\n",
      "    np.save(f, output_np)\n",
      "wandb.log_artifact(output_artifact)\n",
      "\n",
      "\n",
      "# Log the output to wandb\n",
      "wandb.log({\"output\": output_np})\n",
      "\n",
      "wandb.finish()\n",
      "```\n",
      "\n",
      "In this example:\n",
      "\n",
      "1.  `wandb.init()` starts the run.\n",
      "2.  `wandb.Artifact` is used to create an artifact for the input and output to the model.\n",
      "3.  `my_model()` is called with input.\n",
      "4.  `wandb.log_artifact` records the input and output artifacts to the run.\n",
      "\n",
      "When you view this run in the Weave UI, you will see the `input_artifact` and `output_artifact`.  Because the provenance is tracked by wandb (and you're using artifacts) you'll see that Weave will attempt to intelligently link the input to the output when you explore the run in Weave mode.\n",
      "\n",
      "**In Summary:**\n",
      "\n",
      "Weave creates links after a model call by:\n",
      "\n",
      "1.  **Capturing input and output data** (preferably as wandb artifacts).\n",
      "2.  **Logging this data with `wandb.log()` or `wandb.log_artifact()`.**\n",
      "3.  **Tracking the provenance** of the data to establish relationships between inputs, functions/models, and outputs.\n",
      "4.  **Constructing a data graph** that represents the flow of data through your experiment.\n",
      "5.  **Visualizing the data graph in the Weave UI**, with links representing the relationships between nodes.\n",
      "\n",
      "To maximize the power of Weave, structure your code to use `wandb.Artifacts`, `wandb.Table`, `wandb.Image`, or other Weave-compatible data types whenever possible. Also, consider the `wandb.sdk.weave.trace` module for more advanced tracing of your model's execution.\n",
      "\n"
     ]
    }
   ],
   "source": [
    "print(k3.text)"
   ]
  },
  {
   "cell_type": "markdown",
   "metadata": {},
   "source": [
    "Wandb Weave, a core component of the Weights & Biases (wandb) platform, provides a flexible and powerful way to visualize, analyze, and debug machine learning experiments. When you call your model within a wandb-tracked run and use Weave-compatible functions, it meticulously captures the input and output data and establishes the necessary connections for visualization in the Weave UI. Here's a breakdown of how Weave creates the link after the model call:\n",
    "\n",
    "**1. Integration with `wandb.init()` and `wandb.log()`:**\n",
    "\n",
    "*   **`wandb.init()`:** This function initializes a wandb run, which acts as a container for your experiment's data.\n",
    "*   **`wandb.log()`:** This is the primary mechanism for recording metrics, hyperparameters, artifacts (like models), and other data associated with your run.  Weave relies heavily on data logged with `wandb.log()`.\n",
    "\n",
    "**2.  Weave-Compatible Functions and Artifacts:**\n",
    "\n",
    "*   **Input & Output Data as Artifacts:** Weave thrives when you save your model's input and output data as `wandb.Artifact` objects.  These artifacts represent the data that was used to train and/or evaluate your model, and the predictions that it made.\n",
    "*   **Weave-Compatible Logging:**  Some standard Python data types and logging methods are automatically recognized by Weave (e.g., scalars, images, tables).  For more complex data, you might need to use Weave's specific data structures (e.g., `wandb.Table`, `wandb.Image`) to ensure proper visualization.\n",
    "*   **Custom Tracers:**  For more detailed tracing of your model's execution (including the inputs and outputs of individual layers or functions), you can use `wandb.sdk.weave.weave_internal.trace.trace` and related functions to log fine-grained details of your model's computations.  This is especially useful for debugging complex models.\n",
    "\n",
    "**3.  Tracking Model Calls:**\n",
    "\n",
    "*   **Provenance Tracking:** When you use Weave-compatible logging methods, wandb automatically tracks the *provenance* of your data.  This means it records which functions or models produced which outputs, and what inputs were used.  This provenance information is crucial for creating the links in the Weave UI.  This is done in a few key ways:\n",
    "    *   **Input/Output Mapping:** Weave records the exact input provided to your model call.\n",
    "    *   **Function Tracking:** It keeps track of the function or model that was called.\n",
    "    *   **Output Capture:** It records the output generated by the model.\n",
    "\n",
    "**4. How Links Are Constructed in the Weave UI:**\n",
    "\n",
    "*   **Data Graph:** Weave builds a *data graph* from the logged data and its provenance information.  This graph represents the flow of data through your experiment.\n",
    "*   **Visual Representation:** The Weave UI then uses this data graph to create an interactive visualization.  Nodes in the graph represent data (like artifacts, metrics, or model outputs), and edges represent the relationships between them (e.g., a model's input and its output).\n",
    "*   **Clickable Connections:** The links you see in the Weave UI are visual representations of these edges in the data graph.  They allow you to trace the data flow from a model's input to its output, and to see how different parts of your experiment are connected.\n",
    "\n",
    "**Example:**\n",
    "\n",
    "```python\n",
    "import wandb\n",
    "import numpy as np\n",
    "\n",
    "# Assume you have a simple model:\n",
    "def my_model(input_data):\n",
    "  return input_data * 2\n",
    "\n",
    "wandb.init(project=\"my-weave-project\")\n",
    "\n",
    "# Generate some input data\n",
    "input_np = np.random.rand(10)\n",
    "\n",
    "# Create a wandb Artifact for the input\n",
    "input_artifact = wandb.Artifact(\"my_input_data\", type=\"dataset\")\n",
    "with input_artifact.new_file(\"input.npy\") as f:\n",
    "    np.save(f, input_np)\n",
    "...\n",
    "5.  **Visualizing the data graph in the Weave UI**, with links representing the relationships between nodes.\n",
    "\n",
    "To maximize the power of Weave, structure your code to use `wandb.Artifacts`, `wandb.Table`, `wandb.Image`, or other Weave-compatible data types whenever possible. Also, consider the `wandb.sdk.weave.trace` module for more advanced tracing of your model's execution.\n",
    "\n",
    "Output is truncated. View as a scrollable element or open in a text editor. Adjust cell output settings..."
   ]
  },
  {
   "cell_type": "code",
   "execution_count": null,
   "metadata": {},
   "outputs": [],
   "source": []
  }
 ],
 "metadata": {
  "colab": {
   "provenance": []
  },
  "kernelspec": {
   "display_name": ".venv",
   "language": "python",
   "name": "python3"
  },
  "language_info": {
   "codemirror_mode": {
    "name": "ipython",
    "version": 3
   },
   "file_extension": ".py",
   "mimetype": "text/x-python",
   "name": "python",
   "nbconvert_exporter": "python",
   "pygments_lexer": "ipython3",
   "version": "3.9.13"
  }
 },
 "nbformat": 4,
 "nbformat_minor": 0
}
